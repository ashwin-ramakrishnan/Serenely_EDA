{
 "cells": [
  {
   "cell_type": "markdown",
   "metadata": {},
   "source": [
    "## Introduction:\n",
    "\n",
    "In this scenario, I am tasked with analyzing the product (Meditation app) usage data to better understand the consumers, characterisitcs of app usage and its performance. \n",
    "\n",
    "### About the data:\n",
    "  \n",
    "  1. **Usage Data**: Contains information corresponding to the frequency of app usage across a 14 day period.\n",
    "  <br>\n",
    "  \n",
    "  2. **User Experience Survey**: Contains user responses to particular survey questions before usage and after usage of the data.\n",
    "  <br>\n",
    "  Keys:\n",
    "  \n",
    "      a) X1 - I Expect this meditation app to be helpful. <br>\n",
    "      b) X2 - It is easy for me to concentrate on what I am doing.<br>\n",
    "      c) X3 - I am able to focus on the present moment.<br>\n",
    "      d) X4 - I tend to easily stick to new habits.<br>\n",
    "      e) X5 - I enjoy keeping a regular schedule.<br>\n",
    "      f) X6 - Recently I have felt stress.<br>\n",
    "      g) X7 - I found this meditation app to be helpful.<br>\n",
    "     \n",
    "     The ratings are on a scale of 1-7\n",
    "   \n",
    "   <br>\n",
    "  3. **User Demographics**: Contains information such as age group, gender, and location of the user"
   ]
  },
  {
   "cell_type": "code",
   "execution_count": 1,
   "metadata": {},
   "outputs": [],
   "source": [
    "#Import necessary packages for data analysis\n",
    "\n",
    "import numpy as np\n",
    "import pandas as pd\n",
    "import seaborn as sns\n",
    "import matplotlib.pyplot as plt\n",
    "import warnings\n",
    "%matplotlib inline\n",
    "\n",
    "#Ignore basic warnings to avoid it from appearing in report\n",
    "warnings.filterwarnings(\"ignore\")\n"
   ]
  },
  {
   "cell_type": "code",
   "execution_count": 2,
   "metadata": {},
   "outputs": [],
   "source": [
    "#Load the 3 datasets as Pandas Dataframes.\n",
    "#UserId is the primary key identifier, therefore, can be used as index\n",
    "\n",
    "#User Demographics Data\n",
    "demographics = pd.read_excel('C:/Users/dell/Downloads/Demographics_-_Humu_case_study.xlsx',index_col = 'userid') \n",
    "\n",
    "#App Usage Data\n",
    "app_usage =  pd.read_excel('C:/Users/dell/Downloads/App_usage_data_-_Humu_case_study.xlsx', index_col = 'userid') \n",
    "\n",
    "#User experience survey data\n",
    "user_survey = pd.read_excel('C:/Users/dell/Downloads/User_experience_survey_-_Humu_case_study.xlsx', index_col = 'userid')  \n"
   ]
  },
  {
   "cell_type": "code",
   "execution_count": 3,
   "metadata": {},
   "outputs": [],
   "source": [
    "#Look at what the dataframes look like."
   ]
  },
  {
   "cell_type": "code",
   "execution_count": 4,
   "metadata": {},
   "outputs": [
    {
     "data": {
      "text/html": [
       "<div>\n",
       "<style scoped>\n",
       "    .dataframe tbody tr th:only-of-type {\n",
       "        vertical-align: middle;\n",
       "    }\n",
       "\n",
       "    .dataframe tbody tr th {\n",
       "        vertical-align: top;\n",
       "    }\n",
       "\n",
       "    .dataframe thead th {\n",
       "        text-align: right;\n",
       "    }\n",
       "</style>\n",
       "<table border=\"1\" class=\"dataframe\">\n",
       "  <thead>\n",
       "    <tr style=\"text-align: right;\">\n",
       "      <th></th>\n",
       "      <th>age_range</th>\n",
       "      <th>gender</th>\n",
       "      <th>metro_area</th>\n",
       "    </tr>\n",
       "    <tr>\n",
       "      <th>userid</th>\n",
       "      <th></th>\n",
       "      <th></th>\n",
       "      <th></th>\n",
       "    </tr>\n",
       "  </thead>\n",
       "  <tbody>\n",
       "    <tr>\n",
       "      <th>1</th>\n",
       "      <td>25 to 34</td>\n",
       "      <td>female</td>\n",
       "      <td>NYC</td>\n",
       "    </tr>\n",
       "    <tr>\n",
       "      <th>2</th>\n",
       "      <td>25 to 34</td>\n",
       "      <td>female</td>\n",
       "      <td>LA</td>\n",
       "    </tr>\n",
       "    <tr>\n",
       "      <th>3</th>\n",
       "      <td>45 to 54</td>\n",
       "      <td>female</td>\n",
       "      <td>SF</td>\n",
       "    </tr>\n",
       "    <tr>\n",
       "      <th>4</th>\n",
       "      <td>25 to 34</td>\n",
       "      <td>female</td>\n",
       "      <td>NYC</td>\n",
       "    </tr>\n",
       "    <tr>\n",
       "      <th>5</th>\n",
       "      <td>25 to 34</td>\n",
       "      <td>female</td>\n",
       "      <td>CHI</td>\n",
       "    </tr>\n",
       "  </tbody>\n",
       "</table>\n",
       "</div>"
      ],
      "text/plain": [
       "       age_range  gender metro_area\n",
       "userid                             \n",
       "1       25 to 34  female        NYC\n",
       "2       25 to 34  female         LA\n",
       "3       45 to 54  female         SF\n",
       "4       25 to 34  female        NYC\n",
       "5       25 to 34  female        CHI"
      ]
     },
     "execution_count": 4,
     "metadata": {},
     "output_type": "execute_result"
    }
   ],
   "source": [
    "demographics.head(5)  #Demographics data"
   ]
  },
  {
   "cell_type": "code",
   "execution_count": 5,
   "metadata": {},
   "outputs": [
    {
     "data": {
      "text/html": [
       "<div>\n",
       "<style scoped>\n",
       "    .dataframe tbody tr th:only-of-type {\n",
       "        vertical-align: middle;\n",
       "    }\n",
       "\n",
       "    .dataframe tbody tr th {\n",
       "        vertical-align: top;\n",
       "    }\n",
       "\n",
       "    .dataframe thead th {\n",
       "        text-align: right;\n",
       "    }\n",
       "</style>\n",
       "<table border=\"1\" class=\"dataframe\">\n",
       "  <thead>\n",
       "    <tr style=\"text-align: right;\">\n",
       "      <th></th>\n",
       "      <th>day1</th>\n",
       "      <th>day2</th>\n",
       "      <th>day3</th>\n",
       "      <th>day4</th>\n",
       "      <th>day5</th>\n",
       "      <th>day6</th>\n",
       "      <th>day7</th>\n",
       "      <th>day8</th>\n",
       "      <th>day9</th>\n",
       "      <th>day10</th>\n",
       "      <th>day11</th>\n",
       "      <th>day12</th>\n",
       "      <th>day13</th>\n",
       "      <th>day14</th>\n",
       "    </tr>\n",
       "    <tr>\n",
       "      <th>userid</th>\n",
       "      <th></th>\n",
       "      <th></th>\n",
       "      <th></th>\n",
       "      <th></th>\n",
       "      <th></th>\n",
       "      <th></th>\n",
       "      <th></th>\n",
       "      <th></th>\n",
       "      <th></th>\n",
       "      <th></th>\n",
       "      <th></th>\n",
       "      <th></th>\n",
       "      <th></th>\n",
       "      <th></th>\n",
       "    </tr>\n",
       "  </thead>\n",
       "  <tbody>\n",
       "    <tr>\n",
       "      <th>1</th>\n",
       "      <td>2</td>\n",
       "      <td>1</td>\n",
       "      <td>1</td>\n",
       "      <td>1</td>\n",
       "      <td>1</td>\n",
       "      <td>0</td>\n",
       "      <td>1</td>\n",
       "      <td>1</td>\n",
       "      <td>1</td>\n",
       "      <td>0</td>\n",
       "      <td>1.0</td>\n",
       "      <td>0.0</td>\n",
       "      <td>1.0</td>\n",
       "      <td>1.0</td>\n",
       "    </tr>\n",
       "    <tr>\n",
       "      <th>2</th>\n",
       "      <td>1</td>\n",
       "      <td>1</td>\n",
       "      <td>1</td>\n",
       "      <td>0</td>\n",
       "      <td>0</td>\n",
       "      <td>0</td>\n",
       "      <td>0</td>\n",
       "      <td>1</td>\n",
       "      <td>1</td>\n",
       "      <td>1</td>\n",
       "      <td>0.0</td>\n",
       "      <td>1.0</td>\n",
       "      <td>1.0</td>\n",
       "      <td>0.0</td>\n",
       "    </tr>\n",
       "    <tr>\n",
       "      <th>3</th>\n",
       "      <td>1</td>\n",
       "      <td>1</td>\n",
       "      <td>4</td>\n",
       "      <td>0</td>\n",
       "      <td>0</td>\n",
       "      <td>0</td>\n",
       "      <td>1</td>\n",
       "      <td>0</td>\n",
       "      <td>0</td>\n",
       "      <td>1</td>\n",
       "      <td>0.0</td>\n",
       "      <td>1.0</td>\n",
       "      <td>1.0</td>\n",
       "      <td>1.0</td>\n",
       "    </tr>\n",
       "    <tr>\n",
       "      <th>4</th>\n",
       "      <td>0</td>\n",
       "      <td>0</td>\n",
       "      <td>0</td>\n",
       "      <td>0</td>\n",
       "      <td>0</td>\n",
       "      <td>0</td>\n",
       "      <td>0</td>\n",
       "      <td>0</td>\n",
       "      <td>0</td>\n",
       "      <td>0</td>\n",
       "      <td>0.0</td>\n",
       "      <td>0.0</td>\n",
       "      <td>NaN</td>\n",
       "      <td>NaN</td>\n",
       "    </tr>\n",
       "    <tr>\n",
       "      <th>5</th>\n",
       "      <td>1</td>\n",
       "      <td>0</td>\n",
       "      <td>0</td>\n",
       "      <td>0</td>\n",
       "      <td>1</td>\n",
       "      <td>2</td>\n",
       "      <td>0</td>\n",
       "      <td>0</td>\n",
       "      <td>0</td>\n",
       "      <td>2</td>\n",
       "      <td>0.0</td>\n",
       "      <td>0.0</td>\n",
       "      <td>0.0</td>\n",
       "      <td>NaN</td>\n",
       "    </tr>\n",
       "  </tbody>\n",
       "</table>\n",
       "</div>"
      ],
      "text/plain": [
       "        day1  day2  day3  day4  day5  day6  day7  day8  day9  day10  day11  \\\n",
       "userid                                                                       \n",
       "1          2     1     1     1     1     0     1     1     1      0    1.0   \n",
       "2          1     1     1     0     0     0     0     1     1      1    0.0   \n",
       "3          1     1     4     0     0     0     1     0     0      1    0.0   \n",
       "4          0     0     0     0     0     0     0     0     0      0    0.0   \n",
       "5          1     0     0     0     1     2     0     0     0      2    0.0   \n",
       "\n",
       "        day12  day13  day14  \n",
       "userid                       \n",
       "1         0.0    1.0    1.0  \n",
       "2         1.0    1.0    0.0  \n",
       "3         1.0    1.0    1.0  \n",
       "4         0.0    NaN    NaN  \n",
       "5         0.0    0.0    NaN  "
      ]
     },
     "execution_count": 5,
     "metadata": {},
     "output_type": "execute_result"
    }
   ],
   "source": [
    "app_usage.head(5) #App Usage Frequency Data for 14 day period."
   ]
  },
  {
   "cell_type": "code",
   "execution_count": 6,
   "metadata": {},
   "outputs": [
    {
     "data": {
      "text/html": [
       "<div>\n",
       "<style scoped>\n",
       "    .dataframe tbody tr th:only-of-type {\n",
       "        vertical-align: middle;\n",
       "    }\n",
       "\n",
       "    .dataframe tbody tr th {\n",
       "        vertical-align: top;\n",
       "    }\n",
       "\n",
       "    .dataframe thead th {\n",
       "        text-align: right;\n",
       "    }\n",
       "</style>\n",
       "<table border=\"1\" class=\"dataframe\">\n",
       "  <thead>\n",
       "    <tr style=\"text-align: right;\">\n",
       "      <th></th>\n",
       "      <th>time</th>\n",
       "      <th>X1</th>\n",
       "      <th>X2</th>\n",
       "      <th>X3</th>\n",
       "      <th>X4</th>\n",
       "      <th>X5</th>\n",
       "      <th>X6</th>\n",
       "      <th>X7</th>\n",
       "    </tr>\n",
       "    <tr>\n",
       "      <th>userid</th>\n",
       "      <th></th>\n",
       "      <th></th>\n",
       "      <th></th>\n",
       "      <th></th>\n",
       "      <th></th>\n",
       "      <th></th>\n",
       "      <th></th>\n",
       "      <th></th>\n",
       "    </tr>\n",
       "  </thead>\n",
       "  <tbody>\n",
       "    <tr>\n",
       "      <th>1</th>\n",
       "      <td>sign up</td>\n",
       "      <td>3.0</td>\n",
       "      <td>6.0</td>\n",
       "      <td>6.0</td>\n",
       "      <td>7.0</td>\n",
       "      <td>6.0</td>\n",
       "      <td>5</td>\n",
       "      <td>NaN</td>\n",
       "    </tr>\n",
       "    <tr>\n",
       "      <th>1</th>\n",
       "      <td>post-14 days</td>\n",
       "      <td>NaN</td>\n",
       "      <td>NaN</td>\n",
       "      <td>NaN</td>\n",
       "      <td>NaN</td>\n",
       "      <td>NaN</td>\n",
       "      <td>5</td>\n",
       "      <td>5.0</td>\n",
       "    </tr>\n",
       "    <tr>\n",
       "      <th>2</th>\n",
       "      <td>sign up</td>\n",
       "      <td>5.0</td>\n",
       "      <td>4.0</td>\n",
       "      <td>6.0</td>\n",
       "      <td>6.0</td>\n",
       "      <td>4.0</td>\n",
       "      <td>7</td>\n",
       "      <td>NaN</td>\n",
       "    </tr>\n",
       "    <tr>\n",
       "      <th>2</th>\n",
       "      <td>post-14 days</td>\n",
       "      <td>NaN</td>\n",
       "      <td>NaN</td>\n",
       "      <td>NaN</td>\n",
       "      <td>NaN</td>\n",
       "      <td>NaN</td>\n",
       "      <td>3</td>\n",
       "      <td>7.0</td>\n",
       "    </tr>\n",
       "    <tr>\n",
       "      <th>3</th>\n",
       "      <td>sign up</td>\n",
       "      <td>2.0</td>\n",
       "      <td>5.0</td>\n",
       "      <td>4.0</td>\n",
       "      <td>5.0</td>\n",
       "      <td>4.0</td>\n",
       "      <td>7</td>\n",
       "      <td>NaN</td>\n",
       "    </tr>\n",
       "  </tbody>\n",
       "</table>\n",
       "</div>"
      ],
      "text/plain": [
       "                time   X1   X2   X3   X4   X5  X6   X7\n",
       "userid                                                \n",
       "1            sign up  3.0  6.0  6.0  7.0  6.0   5  NaN\n",
       "1       post-14 days  NaN  NaN  NaN  NaN  NaN   5  5.0\n",
       "2            sign up  5.0  4.0  6.0  6.0  4.0   7  NaN\n",
       "2       post-14 days  NaN  NaN  NaN  NaN  NaN   3  7.0\n",
       "3            sign up  2.0  5.0  4.0  5.0  4.0   7  NaN"
      ]
     },
     "execution_count": 6,
     "metadata": {},
     "output_type": "execute_result"
    }
   ],
   "source": [
    "user_survey.head()  #Responses / Ratings from an user experience survey"
   ]
  },
  {
   "cell_type": "markdown",
   "metadata": {},
   "source": [
    "We notice that the user survey data consists of 2 ratings per user, one during signup for app, and one after 14 days. \n",
    "Let us split the data into 2 dataframes (sign up time and post 14 days time).\n",
    "\n"
   ]
  },
  {
   "cell_type": "code",
   "execution_count": 21,
   "metadata": {},
   "outputs": [],
   "source": [
    "#Split the user survey data based on time of survey.\n",
    "\n",
    "signup_time = user_survey[user_survey['time'] == 'sign up']   #Signup Time Survey Responses\n",
    "signup_time.drop('time', axis = 1 , inplace= True)"
   ]
  },
  {
   "cell_type": "code",
   "execution_count": 22,
   "metadata": {},
   "outputs": [],
   "source": [
    "post14_time = user_survey[user_survey['time'] ==  'post-14 days']  #Post 14 day time survey responses\n",
    "post14_time.drop('time', axis = 1 , inplace= True) \n"
   ]
  },
  {
   "cell_type": "markdown",
   "metadata": {},
   "source": [
    "**What are the survey responses at signup time?**"
   ]
  },
  {
   "cell_type": "code",
   "execution_count": 23,
   "metadata": {},
   "outputs": [
    {
     "name": "stdout",
     "output_type": "stream",
     "text": [
      "<class 'pandas.core.frame.DataFrame'>\n",
      "Int64Index: 1865 entries, 1 to 1865\n",
      "Data columns (total 7 columns):\n",
      " #   Column  Non-Null Count  Dtype  \n",
      "---  ------  --------------  -----  \n",
      " 0   X1      1865 non-null   float64\n",
      " 1   X2      1865 non-null   float64\n",
      " 2   X3      1865 non-null   float64\n",
      " 3   X4      1865 non-null   float64\n",
      " 4   X5      1865 non-null   float64\n",
      " 5   X6      1865 non-null   int64  \n",
      " 6   X7      0 non-null      float64\n",
      "dtypes: float64(6), int64(1)\n",
      "memory usage: 116.6 KB\n"
     ]
    }
   ],
   "source": [
    "signup_time.info()"
   ]
  },
  {
   "cell_type": "markdown",
   "metadata": {},
   "source": [
    "X7 was never asked/answered during the sign up since it is about whether or not the meditation app was helpful. "
   ]
  },
  {
   "cell_type": "markdown",
   "metadata": {},
   "source": [
    "**What are the survey responses post 14 days of usage?**"
   ]
  },
  {
   "cell_type": "code",
   "execution_count": 10,
   "metadata": {},
   "outputs": [
    {
     "name": "stdout",
     "output_type": "stream",
     "text": [
      "<class 'pandas.core.frame.DataFrame'>\n",
      "Int64Index: 935 entries, 1 to 935\n",
      "Data columns (total 7 columns):\n",
      " #   Column  Non-Null Count  Dtype  \n",
      "---  ------  --------------  -----  \n",
      " 0   X1      0 non-null      float64\n",
      " 1   X2      0 non-null      float64\n",
      " 2   X3      0 non-null      float64\n",
      " 3   X4      0 non-null      float64\n",
      " 4   X5      0 non-null      float64\n",
      " 5   X6      935 non-null    int64  \n",
      " 6   X7      935 non-null    float64\n",
      "dtypes: float64(6), int64(1)\n",
      "memory usage: 58.4 KB\n"
     ]
    }
   ],
   "source": [
    "post14_time.info()"
   ]
  },
  {
   "cell_type": "markdown",
   "metadata": {},
   "source": [
    "X1, X2, X3, X4,X5 were asked/answered in the survey after the 14 day period. Therefore, we can conclude that the first 5 responses were to understand the user.\n",
    "\n",
    "X6 is used to measure the stress levels before and after using the app to validate performance.\n",
    "\n",
    "X7 measures the usefulness of the app according to the user.\n",
    "\n",
    "** Another important thing is to note that there are only 935 users who have have responded to both the surveys.** "
   ]
  },
  {
   "cell_type": "markdown",
   "metadata": {},
   "source": [
    "## Data Cleaning: \n",
    "\n",
    "At sign up, only 6 responses are required which are used to better undestand, therefore, we can drop the last response which is used to measure and get feedback on the app. Similarly, the survey post 14 days contains responses regarding the performance of the app. Therefore, drop the remaining in this data frame. \n",
    "\n"
   ]
  },
  {
   "cell_type": "code",
   "execution_count": 11,
   "metadata": {},
   "outputs": [],
   "source": [
    "#Drop X7 from sign up time responses since users can't rate how helpful the app is before using it.\n",
    "\n",
    "signup_time.drop('X7', axis = 1 , inplace= True)"
   ]
  },
  {
   "cell_type": "code",
   "execution_count": 12,
   "metadata": {},
   "outputs": [],
   "source": [
    "#Lets rename the response / rating columns to be friendly to read in the dataframes.\n",
    "\n",
    "signup_time.columns = ['App - Helpfulness Expectation', 'Current Concentration Level', 'Focus on Present Moment',\n",
    "                      'Sticking to new Habits','Keeping a Regular Schedule','Before App Usage Stress Level']\n",
    "\n"
   ]
  },
  {
   "cell_type": "code",
   "execution_count": 13,
   "metadata": {},
   "outputs": [],
   "source": [
    "#Drop the response columns which were presented to the user only during sign-up\n",
    "post14_time.drop(['X1','X2','X3','X4','X5'], axis = 1 , inplace = True)"
   ]
  },
  {
   "cell_type": "code",
   "execution_count": 14,
   "metadata": {},
   "outputs": [],
   "source": [
    "#Rename post 14 day survey response column.\n",
    "\n",
    "post14_time.columns = ['After App Usage Stress Levels','App Helpfulness Rating']"
   ]
  },
  {
   "cell_type": "markdown",
   "metadata": {},
   "source": [
    "**Join all dataframes on the user id column**"
   ]
  },
  {
   "cell_type": "code",
   "execution_count": 15,
   "metadata": {},
   "outputs": [],
   "source": [
    "#Join all dataframes into one\n",
    "\n",
    "data = demographics.join([app_usage,signup_time,post14_time])"
   ]
  },
  {
   "cell_type": "code",
   "execution_count": 16,
   "metadata": {},
   "outputs": [
    {
     "data": {
      "text/html": [
       "<div>\n",
       "<style scoped>\n",
       "    .dataframe tbody tr th:only-of-type {\n",
       "        vertical-align: middle;\n",
       "    }\n",
       "\n",
       "    .dataframe tbody tr th {\n",
       "        vertical-align: top;\n",
       "    }\n",
       "\n",
       "    .dataframe thead th {\n",
       "        text-align: right;\n",
       "    }\n",
       "</style>\n",
       "<table border=\"1\" class=\"dataframe\">\n",
       "  <thead>\n",
       "    <tr style=\"text-align: right;\">\n",
       "      <th></th>\n",
       "      <th>age_range</th>\n",
       "      <th>gender</th>\n",
       "      <th>metro_area</th>\n",
       "      <th>day1</th>\n",
       "      <th>day2</th>\n",
       "      <th>day3</th>\n",
       "      <th>day4</th>\n",
       "      <th>day5</th>\n",
       "      <th>day6</th>\n",
       "      <th>day7</th>\n",
       "      <th>...</th>\n",
       "      <th>day13</th>\n",
       "      <th>day14</th>\n",
       "      <th>App - Helpfulness Expectation</th>\n",
       "      <th>Current Concentration Level</th>\n",
       "      <th>Focus on Present Moment</th>\n",
       "      <th>Sticking to new Habits</th>\n",
       "      <th>Keeping a Regular Schedule</th>\n",
       "      <th>Before App Usage Stress Level</th>\n",
       "      <th>After App Usage Stress Levels</th>\n",
       "      <th>App Helpfulness Rating</th>\n",
       "    </tr>\n",
       "    <tr>\n",
       "      <th>userid</th>\n",
       "      <th></th>\n",
       "      <th></th>\n",
       "      <th></th>\n",
       "      <th></th>\n",
       "      <th></th>\n",
       "      <th></th>\n",
       "      <th></th>\n",
       "      <th></th>\n",
       "      <th></th>\n",
       "      <th></th>\n",
       "      <th></th>\n",
       "      <th></th>\n",
       "      <th></th>\n",
       "      <th></th>\n",
       "      <th></th>\n",
       "      <th></th>\n",
       "      <th></th>\n",
       "      <th></th>\n",
       "      <th></th>\n",
       "      <th></th>\n",
       "      <th></th>\n",
       "    </tr>\n",
       "  </thead>\n",
       "  <tbody>\n",
       "    <tr>\n",
       "      <th>1</th>\n",
       "      <td>25 to 34</td>\n",
       "      <td>female</td>\n",
       "      <td>NYC</td>\n",
       "      <td>2</td>\n",
       "      <td>1</td>\n",
       "      <td>1</td>\n",
       "      <td>1</td>\n",
       "      <td>1</td>\n",
       "      <td>0</td>\n",
       "      <td>1</td>\n",
       "      <td>...</td>\n",
       "      <td>1.0</td>\n",
       "      <td>1.0</td>\n",
       "      <td>3.0</td>\n",
       "      <td>6.0</td>\n",
       "      <td>6.0</td>\n",
       "      <td>7.0</td>\n",
       "      <td>6.0</td>\n",
       "      <td>5.0</td>\n",
       "      <td>5.0</td>\n",
       "      <td>5.0</td>\n",
       "    </tr>\n",
       "    <tr>\n",
       "      <th>2</th>\n",
       "      <td>25 to 34</td>\n",
       "      <td>female</td>\n",
       "      <td>LA</td>\n",
       "      <td>1</td>\n",
       "      <td>1</td>\n",
       "      <td>1</td>\n",
       "      <td>0</td>\n",
       "      <td>0</td>\n",
       "      <td>0</td>\n",
       "      <td>0</td>\n",
       "      <td>...</td>\n",
       "      <td>1.0</td>\n",
       "      <td>0.0</td>\n",
       "      <td>5.0</td>\n",
       "      <td>4.0</td>\n",
       "      <td>6.0</td>\n",
       "      <td>6.0</td>\n",
       "      <td>4.0</td>\n",
       "      <td>7.0</td>\n",
       "      <td>3.0</td>\n",
       "      <td>7.0</td>\n",
       "    </tr>\n",
       "    <tr>\n",
       "      <th>3</th>\n",
       "      <td>45 to 54</td>\n",
       "      <td>female</td>\n",
       "      <td>SF</td>\n",
       "      <td>1</td>\n",
       "      <td>1</td>\n",
       "      <td>4</td>\n",
       "      <td>0</td>\n",
       "      <td>0</td>\n",
       "      <td>0</td>\n",
       "      <td>1</td>\n",
       "      <td>...</td>\n",
       "      <td>1.0</td>\n",
       "      <td>1.0</td>\n",
       "      <td>2.0</td>\n",
       "      <td>5.0</td>\n",
       "      <td>4.0</td>\n",
       "      <td>5.0</td>\n",
       "      <td>4.0</td>\n",
       "      <td>7.0</td>\n",
       "      <td>4.0</td>\n",
       "      <td>6.0</td>\n",
       "    </tr>\n",
       "    <tr>\n",
       "      <th>4</th>\n",
       "      <td>25 to 34</td>\n",
       "      <td>female</td>\n",
       "      <td>NYC</td>\n",
       "      <td>0</td>\n",
       "      <td>0</td>\n",
       "      <td>0</td>\n",
       "      <td>0</td>\n",
       "      <td>0</td>\n",
       "      <td>0</td>\n",
       "      <td>0</td>\n",
       "      <td>...</td>\n",
       "      <td>NaN</td>\n",
       "      <td>NaN</td>\n",
       "      <td>1.0</td>\n",
       "      <td>4.0</td>\n",
       "      <td>4.0</td>\n",
       "      <td>6.0</td>\n",
       "      <td>7.0</td>\n",
       "      <td>5.0</td>\n",
       "      <td>5.0</td>\n",
       "      <td>4.0</td>\n",
       "    </tr>\n",
       "    <tr>\n",
       "      <th>5</th>\n",
       "      <td>25 to 34</td>\n",
       "      <td>female</td>\n",
       "      <td>CHI</td>\n",
       "      <td>1</td>\n",
       "      <td>0</td>\n",
       "      <td>0</td>\n",
       "      <td>0</td>\n",
       "      <td>1</td>\n",
       "      <td>2</td>\n",
       "      <td>0</td>\n",
       "      <td>...</td>\n",
       "      <td>0.0</td>\n",
       "      <td>NaN</td>\n",
       "      <td>3.0</td>\n",
       "      <td>5.0</td>\n",
       "      <td>4.0</td>\n",
       "      <td>5.0</td>\n",
       "      <td>3.0</td>\n",
       "      <td>4.0</td>\n",
       "      <td>7.0</td>\n",
       "      <td>7.0</td>\n",
       "    </tr>\n",
       "  </tbody>\n",
       "</table>\n",
       "<p>5 rows × 25 columns</p>\n",
       "</div>"
      ],
      "text/plain": [
       "       age_range  gender metro_area  day1  day2  day3  day4  day5  day6  day7  \\\n",
       "userid                                                                          \n",
       "1       25 to 34  female        NYC     2     1     1     1     1     0     1   \n",
       "2       25 to 34  female         LA     1     1     1     0     0     0     0   \n",
       "3       45 to 54  female         SF     1     1     4     0     0     0     1   \n",
       "4       25 to 34  female        NYC     0     0     0     0     0     0     0   \n",
       "5       25 to 34  female        CHI     1     0     0     0     1     2     0   \n",
       "\n",
       "        ...  day13  day14  App - Helpfulness Expectation  \\\n",
       "userid  ...                                                \n",
       "1       ...    1.0    1.0                            3.0   \n",
       "2       ...    1.0    0.0                            5.0   \n",
       "3       ...    1.0    1.0                            2.0   \n",
       "4       ...    NaN    NaN                            1.0   \n",
       "5       ...    0.0    NaN                            3.0   \n",
       "\n",
       "        Current Concentration Level  Focus on Present Moment  \\\n",
       "userid                                                         \n",
       "1                               6.0                      6.0   \n",
       "2                               4.0                      6.0   \n",
       "3                               5.0                      4.0   \n",
       "4                               4.0                      4.0   \n",
       "5                               5.0                      4.0   \n",
       "\n",
       "        Sticking to new Habits  Keeping a Regular Schedule  \\\n",
       "userid                                                       \n",
       "1                          7.0                         6.0   \n",
       "2                          6.0                         4.0   \n",
       "3                          5.0                         4.0   \n",
       "4                          6.0                         7.0   \n",
       "5                          5.0                         3.0   \n",
       "\n",
       "        Before App Usage Stress Level  After App Usage Stress Levels  \\\n",
       "userid                                                                 \n",
       "1                                 5.0                            5.0   \n",
       "2                                 7.0                            3.0   \n",
       "3                                 7.0                            4.0   \n",
       "4                                 5.0                            5.0   \n",
       "5                                 4.0                            7.0   \n",
       "\n",
       "        App Helpfulness Rating  \n",
       "userid                          \n",
       "1                          5.0  \n",
       "2                          7.0  \n",
       "3                          6.0  \n",
       "4                          4.0  \n",
       "5                          7.0  \n",
       "\n",
       "[5 rows x 25 columns]"
      ]
     },
     "execution_count": 16,
     "metadata": {},
     "output_type": "execute_result"
    }
   ],
   "source": [
    "data.head(5)"
   ]
  },
  {
   "cell_type": "markdown",
   "metadata": {},
   "source": [
    "### IMPORTANT ASSUMPTION\n",
    "\n",
    "The app usage data  contains missing information for some users. Therefore, assuming the usage pattern is similar across the entire sample,  I will fill these values with the mode (highest frequency) of the column values.\n",
    "\n",
    "Survey responses are missing for a lot of users. However, imputing missing values for these can introduce a lot of bias since behaviors/responses are dependent on so many factors. Therefore, I will not be filling these missing values and providing analysis with the sample of the people who have given the survey response."
   ]
  },
  {
   "cell_type": "code",
   "execution_count": 17,
   "metadata": {},
   "outputs": [],
   "source": [
    "#Fill missing values for the app usage with the mode of the column values.\n",
    "\n",
    "usage_day = ['day1','day2','day3','day4','day5','day6','day7','day8','day9','day10','day11','day12','day13','day14']\n",
    "\n",
    "for i in usage_day:\n",
    "    data[i].fillna(data[i].mode()[0], inplace = True)"
   ]
  },
  {
   "cell_type": "code",
   "execution_count": 18,
   "metadata": {},
   "outputs": [],
   "source": [
    "#The response in the surveys are categories on a scale of 1-7. Therefore, convert the categories. \n",
    "#Demographic information such as age range and gender are also categorical.\n",
    "\n",
    "response_survey = ['App - Helpfulness Expectation','Current Concentration Level', 'Focus on Present Moment',\n",
    "                   'Sticking to new Habits', 'Keeping a Regular Schedule','Before App Usage Stress Level', 'After App Usage Stress Levels',\n",
    "                   'App Helpfulness Rating','age_range','gender']\n",
    "\n",
    "for i in response_survey:\n",
    "    data[i] = data[i].astype('category')"
   ]
  },
  {
   "cell_type": "code",
   "execution_count": 19,
   "metadata": {},
   "outputs": [
    {
     "data": {
      "text/html": [
       "<div>\n",
       "<style scoped>\n",
       "    .dataframe tbody tr th:only-of-type {\n",
       "        vertical-align: middle;\n",
       "    }\n",
       "\n",
       "    .dataframe tbody tr th {\n",
       "        vertical-align: top;\n",
       "    }\n",
       "\n",
       "    .dataframe thead th {\n",
       "        text-align: right;\n",
       "    }\n",
       "</style>\n",
       "<table border=\"1\" class=\"dataframe\">\n",
       "  <thead>\n",
       "    <tr style=\"text-align: right;\">\n",
       "      <th></th>\n",
       "      <th>day1</th>\n",
       "      <th>day2</th>\n",
       "      <th>day3</th>\n",
       "      <th>day4</th>\n",
       "      <th>day5</th>\n",
       "      <th>day6</th>\n",
       "      <th>day7</th>\n",
       "      <th>day8</th>\n",
       "      <th>day9</th>\n",
       "      <th>day10</th>\n",
       "      <th>day11</th>\n",
       "      <th>day12</th>\n",
       "      <th>day13</th>\n",
       "      <th>day14</th>\n",
       "    </tr>\n",
       "  </thead>\n",
       "  <tbody>\n",
       "    <tr>\n",
       "      <th>count</th>\n",
       "      <td>3811.000000</td>\n",
       "      <td>3811.000000</td>\n",
       "      <td>3811.000000</td>\n",
       "      <td>3811.000000</td>\n",
       "      <td>3811.000000</td>\n",
       "      <td>3811.000000</td>\n",
       "      <td>3811.000000</td>\n",
       "      <td>3811.000000</td>\n",
       "      <td>3811.000000</td>\n",
       "      <td>3811.000000</td>\n",
       "      <td>3811.000000</td>\n",
       "      <td>3811.000000</td>\n",
       "      <td>3811.000000</td>\n",
       "      <td>3811.000000</td>\n",
       "    </tr>\n",
       "    <tr>\n",
       "      <th>mean</th>\n",
       "      <td>0.654159</td>\n",
       "      <td>0.689583</td>\n",
       "      <td>0.625295</td>\n",
       "      <td>0.670428</td>\n",
       "      <td>0.664917</td>\n",
       "      <td>0.654421</td>\n",
       "      <td>0.638678</td>\n",
       "      <td>0.650485</td>\n",
       "      <td>0.605615</td>\n",
       "      <td>0.614274</td>\n",
       "      <td>0.443453</td>\n",
       "      <td>0.415114</td>\n",
       "      <td>0.405405</td>\n",
       "      <td>0.385726</td>\n",
       "    </tr>\n",
       "    <tr>\n",
       "      <th>std</th>\n",
       "      <td>0.953813</td>\n",
       "      <td>0.953207</td>\n",
       "      <td>0.910845</td>\n",
       "      <td>0.943559</td>\n",
       "      <td>0.926300</td>\n",
       "      <td>0.926126</td>\n",
       "      <td>0.960022</td>\n",
       "      <td>0.932421</td>\n",
       "      <td>0.912186</td>\n",
       "      <td>0.926567</td>\n",
       "      <td>0.846572</td>\n",
       "      <td>0.806029</td>\n",
       "      <td>0.779772</td>\n",
       "      <td>0.788531</td>\n",
       "    </tr>\n",
       "    <tr>\n",
       "      <th>min</th>\n",
       "      <td>0.000000</td>\n",
       "      <td>0.000000</td>\n",
       "      <td>0.000000</td>\n",
       "      <td>0.000000</td>\n",
       "      <td>0.000000</td>\n",
       "      <td>0.000000</td>\n",
       "      <td>0.000000</td>\n",
       "      <td>0.000000</td>\n",
       "      <td>0.000000</td>\n",
       "      <td>0.000000</td>\n",
       "      <td>0.000000</td>\n",
       "      <td>0.000000</td>\n",
       "      <td>0.000000</td>\n",
       "      <td>0.000000</td>\n",
       "    </tr>\n",
       "    <tr>\n",
       "      <th>25%</th>\n",
       "      <td>0.000000</td>\n",
       "      <td>0.000000</td>\n",
       "      <td>0.000000</td>\n",
       "      <td>0.000000</td>\n",
       "      <td>0.000000</td>\n",
       "      <td>0.000000</td>\n",
       "      <td>0.000000</td>\n",
       "      <td>0.000000</td>\n",
       "      <td>0.000000</td>\n",
       "      <td>0.000000</td>\n",
       "      <td>0.000000</td>\n",
       "      <td>0.000000</td>\n",
       "      <td>0.000000</td>\n",
       "      <td>0.000000</td>\n",
       "    </tr>\n",
       "    <tr>\n",
       "      <th>50%</th>\n",
       "      <td>0.000000</td>\n",
       "      <td>0.000000</td>\n",
       "      <td>0.000000</td>\n",
       "      <td>0.000000</td>\n",
       "      <td>0.000000</td>\n",
       "      <td>0.000000</td>\n",
       "      <td>0.000000</td>\n",
       "      <td>0.000000</td>\n",
       "      <td>0.000000</td>\n",
       "      <td>0.000000</td>\n",
       "      <td>0.000000</td>\n",
       "      <td>0.000000</td>\n",
       "      <td>0.000000</td>\n",
       "      <td>0.000000</td>\n",
       "    </tr>\n",
       "    <tr>\n",
       "      <th>75%</th>\n",
       "      <td>1.000000</td>\n",
       "      <td>1.000000</td>\n",
       "      <td>1.000000</td>\n",
       "      <td>1.000000</td>\n",
       "      <td>1.000000</td>\n",
       "      <td>1.000000</td>\n",
       "      <td>1.000000</td>\n",
       "      <td>1.000000</td>\n",
       "      <td>1.000000</td>\n",
       "      <td>1.000000</td>\n",
       "      <td>1.000000</td>\n",
       "      <td>1.000000</td>\n",
       "      <td>1.000000</td>\n",
       "      <td>0.000000</td>\n",
       "    </tr>\n",
       "    <tr>\n",
       "      <th>max</th>\n",
       "      <td>6.000000</td>\n",
       "      <td>6.000000</td>\n",
       "      <td>7.000000</td>\n",
       "      <td>6.000000</td>\n",
       "      <td>6.000000</td>\n",
       "      <td>6.000000</td>\n",
       "      <td>7.000000</td>\n",
       "      <td>5.000000</td>\n",
       "      <td>5.000000</td>\n",
       "      <td>5.000000</td>\n",
       "      <td>7.000000</td>\n",
       "      <td>6.000000</td>\n",
       "      <td>6.000000</td>\n",
       "      <td>5.000000</td>\n",
       "    </tr>\n",
       "  </tbody>\n",
       "</table>\n",
       "</div>"
      ],
      "text/plain": [
       "              day1         day2         day3         day4         day5  \\\n",
       "count  3811.000000  3811.000000  3811.000000  3811.000000  3811.000000   \n",
       "mean      0.654159     0.689583     0.625295     0.670428     0.664917   \n",
       "std       0.953813     0.953207     0.910845     0.943559     0.926300   \n",
       "min       0.000000     0.000000     0.000000     0.000000     0.000000   \n",
       "25%       0.000000     0.000000     0.000000     0.000000     0.000000   \n",
       "50%       0.000000     0.000000     0.000000     0.000000     0.000000   \n",
       "75%       1.000000     1.000000     1.000000     1.000000     1.000000   \n",
       "max       6.000000     6.000000     7.000000     6.000000     6.000000   \n",
       "\n",
       "              day6         day7         day8         day9        day10  \\\n",
       "count  3811.000000  3811.000000  3811.000000  3811.000000  3811.000000   \n",
       "mean      0.654421     0.638678     0.650485     0.605615     0.614274   \n",
       "std       0.926126     0.960022     0.932421     0.912186     0.926567   \n",
       "min       0.000000     0.000000     0.000000     0.000000     0.000000   \n",
       "25%       0.000000     0.000000     0.000000     0.000000     0.000000   \n",
       "50%       0.000000     0.000000     0.000000     0.000000     0.000000   \n",
       "75%       1.000000     1.000000     1.000000     1.000000     1.000000   \n",
       "max       6.000000     7.000000     5.000000     5.000000     5.000000   \n",
       "\n",
       "             day11        day12        day13        day14  \n",
       "count  3811.000000  3811.000000  3811.000000  3811.000000  \n",
       "mean      0.443453     0.415114     0.405405     0.385726  \n",
       "std       0.846572     0.806029     0.779772     0.788531  \n",
       "min       0.000000     0.000000     0.000000     0.000000  \n",
       "25%       0.000000     0.000000     0.000000     0.000000  \n",
       "50%       0.000000     0.000000     0.000000     0.000000  \n",
       "75%       1.000000     1.000000     1.000000     0.000000  \n",
       "max       7.000000     6.000000     6.000000     5.000000  "
      ]
     },
     "execution_count": 19,
     "metadata": {},
     "output_type": "execute_result"
    }
   ],
   "source": [
    "#Understand the usage pattern of data (Descriptive Statistics of Numerical Values)\n",
    "data.describe()"
   ]
  },
  {
   "cell_type": "markdown",
   "metadata": {},
   "source": [
    "## Analysis"
   ]
  },
  {
   "cell_type": "markdown",
   "metadata": {},
   "source": [
    "### Are there any distinct types of users of this app?"
   ]
  },
  {
   "cell_type": "code",
   "execution_count": 30,
   "metadata": {
    "scrolled": true
   },
   "outputs": [
    {
     "data": {
      "image/png": "[encoded data removed]",
      "text/plain": [
       "<Figure size 1080x576 with 2 Axes>"
      ]
     },
     "metadata": {},
     "output_type": "display_data"
    }
   ],
   "source": [
    "# Gender vs App Usage\n",
    "\n",
    "gender_values = data['gender'].value_counts().tolist()\n",
    "gender_labels = data['gender'].value_counts().index.tolist()\n",
    "plt.figure(figsize = (15,8))\n",
    "plt.subplot(1,2,1)\n",
    "plt.title(\"Distribution of Gender vs App Usage\", loc =\"center\", fontstyle = \"italic\")\n",
    "\n",
    "sns.countplot('gender', data = data, order = data['gender'].value_counts().index ) \n",
    "plt.subplot(1,2,2)\n",
    "plt.axis(\"equal\")\n",
    "plt.pie(gender_values, labels =  gender_labels, radius = 1.5, autopct='%0.1f%%',shadow=True)\n",
    "plt.show()"
   ]
  },
  {
   "cell_type": "markdown",
   "metadata": {},
   "source": [
    "**From the product usage data, it is evident that the females are the primary users/consumers of Serenely's meditation app. Despite 15.9% of the users not opting to share their gender, from the data we see that 53.2% of the users are females. They are the major profiles of our consumer segment. This indicates that women are much more likely than men to subscribe to a meditation app for their well being.**\n",
    "\n",
    "<b><u>Recommendation:</u></b> Target this segment primarily in marketing and development to better understand the user journey. \n",
    "\n"
   ]
  },
  {
   "cell_type": "code",
   "execution_count": 31,
   "metadata": {},
   "outputs": [
    {
     "data": {
      "text/plain": [
       "Text(0.5, 1.0, 'Distribution of Age Range vs App Usage')"
      ]
     },
     "execution_count": 31,
     "metadata": {},
     "output_type": "execute_result"
    },
    {
     "data": {
      "image/png": "[encoded data removed]",
      "text/plain": [
       "<Figure size 864x576 with 1 Axes>"
      ]
     },
     "metadata": {},
     "output_type": "display_data"
    }
   ],
   "source": [
    "# Age-range vs App Usage\n",
    "plt.figure(figsize = (12,8))\n",
    "sns.countplot('age_range', data = data, order = data['age_range'].value_counts().index, palette = 'viridis')\n",
    "plt.title(\"Distribution of Age Range vs App Usage\", loc =\"center\", fontstyle = \"italic\")"
   ]
  },
  {
   "cell_type": "markdown",
   "metadata": {},
   "source": [
    "**Majority (73.5 %) of our users belong to the age group between 25-44. This indicates that adults who are in their early and middle stages of their careers are our primary users. This could be due to the extreme stress levels and pressure at work/family, the need for better well being which could ultimately lead to better performances in balancing multiple aspects of life, etc.  The target audience is being reached.**\n",
    "\n",
    "**It is also vital to note that much older adults (55 years +) contribute to less than 7% of our consumer segment.**\n",
    "\n",
    " "
   ]
  },
  {
   "cell_type": "code",
   "execution_count": 32,
   "metadata": {},
   "outputs": [
    {
     "data": {
      "text/plain": [
       "Text(0.5, 1.0, 'Distribution of User Location')"
      ]
     },
     "execution_count": 32,
     "metadata": {},
     "output_type": "execute_result"
    },
    {
     "data": {
      "image/png": "[encoded data removed]",
      "text/plain": [
       "<Figure size 864x576 with 1 Axes>"
      ]
     },
     "metadata": {},
     "output_type": "display_data"
    }
   ],
   "source": [
    "#Where are our customers located?\n",
    "\n",
    "plt.figure(figsize = (12,8))\n",
    "sns.countplot('metro_area', data = data, order = data['metro_area'].value_counts().index)\n",
    "plt.title(\"Distribution of User Location\", loc =\"center\", fontstyle = \"italic\")\n"
   ]
  },
  {
   "cell_type": "markdown",
   "metadata": {},
   "source": [
    "**People living in California are our primary users. Our app does not seem to be reaching the audience well in the major hubs in the East Coast. This could be due to a lot of unexplainable reasons but lifestyle and culture of people across different states in the country potentially is a driving factor.**\n",
    "\n",
    "<b><u>Recommendation:</u></b> Understand behavior and lifestyle of those outside California better to have a wider audience reach in the country. "
   ]
  },
  {
   "cell_type": "markdown",
   "metadata": {},
   "source": [
    "### What personal characteristics are driving app usage?"
   ]
  },
  {
   "cell_type": "code",
   "execution_count": 25,
   "metadata": {},
   "outputs": [],
   "source": [
    "# Any particular behavior trait or characteristic the reason behing people using the app? "
   ]
  },
  {
   "cell_type": "code",
   "execution_count": 33,
   "metadata": {},
   "outputs": [
    {
     "data": {
      "text/plain": [
       "Text(0.5, 1.0, 'Distribution of Stress Levels and Corresponding Age Range')"
      ]
     },
     "execution_count": 33,
     "metadata": {},
     "output_type": "execute_result"
    },
    {
     "data": {
      "image/png": "[encoded data removed]",
      "text/plain": [
       "<Figure size 864x576 with 1 Axes>"
      ]
     },
     "metadata": {},
     "output_type": "display_data"
    }
   ],
   "source": [
    "#Looking at who have recently felt stressed?\n",
    "plt.figure(figsize = (12,8))\n",
    "sns.countplot('Before App Usage Stress Level', data = data, hue = 'age_range')\n",
    "plt.title(\"Distribution of Stress Levels and Corresponding Age Range\", loc =\"center\", fontstyle = \"italic\")"
   ]
  },
  {
   "cell_type": "markdown",
   "metadata": {},
   "source": [
    "**As expected, and as per the prior analysis, those who are relatively in their early adulthood and early stages of their career report they have recently felt high levels of stress in their lives. People intend to relive stress by using the meditation app.** "
   ]
  },
  {
   "cell_type": "markdown",
   "metadata": {},
   "source": [
    "<b><u>Assumption:</u></b>\n",
    "\n",
    "Categorizing the survey response rating as follows:<br>\n",
    "a) Value < 3 = Low<br>\n",
    "b) Value >=3 and <=6 as Average <br>\n",
    "c) Value > 6 = High <br>"
   ]
  },
  {
   "cell_type": "code",
   "execution_count": 27,
   "metadata": {},
   "outputs": [
    {
     "data": {
      "text/plain": [
       "<matplotlib.axes._subplots.AxesSubplot at 0x225725fa828>"
      ]
     },
     "execution_count": 27,
     "metadata": {},
     "output_type": "execute_result"
    },
    {
     "data": {
      "image/png": "[encoded data removed]",
      "text/plain": [
       "<Figure size 1080x576 with 4 Axes>"
      ]
     },
     "metadata": {},
     "output_type": "display_data"
    }
   ],
   "source": [
    "#Lets look at the distribution of other behavioral characteristics of users as reported by them\n",
    "plt.figure(figsize = (15,8))\n",
    "plt.subplot(2,2,1)\n",
    "sns.countplot('Current Concentration Level', data = data) # Response for ease of concentration\n",
    "plt.subplot(2,2,2)\n",
    "sns.countplot('Focus on Present Moment', data = data) #Response for ability to focus on present moment\n",
    "plt.subplot(2,2,3)\n",
    "sns.countplot('Sticking to new Habits', data = data) #Response for tendency to stick to new habits\n",
    "plt.subplot(2,2,4)\n",
    "sns.countplot('Keeping a Regular Schedule', data = data)# Response for enjoying keeping a regular schedule"
   ]
  },
  {
   "cell_type": "markdown",
   "metadata": {},
   "source": [
    "**From the above plots it is easy to notice that the majority (approximately 75%) of our users have reported that they have average or below average levels of: <br>**\n",
    "\n",
    "**-Concentration (Unable to concentrate on what they are doing)**<br>\n",
    "\n",
    "**-Focus (Easily distracted (Future or past) and unable to focus on the present moment)**<br>\n",
    "\n",
    "**-Ability to avoid new habits (They are easily glued to new habits which is circumstancial)**<br>\n",
    "\n",
    "**-Keeping a regular schedule (No enjoyment in keeping a fixed schedule)** <br>\n",
    "\n",
    "These are the major behavorial characteristics of our users"
   ]
  },
  {
   "cell_type": "code",
   "execution_count": 116,
   "metadata": {},
   "outputs": [
    {
     "name": "stdout",
     "output_type": "stream",
     "text": [
      "Ratio of people who report it is extremely easy for them to concentrate are:23.93%\n",
      "Ratio of people who report it is extremely easy for them to stick to new habits are:24.59%\n",
      "Ratio of people who report they greatly enjoy keeping a regular schedule are:22.67%\n",
      "Ratio of people who report they are easily able to focus on the present are:22.88%\n"
     ]
    }
   ],
   "source": [
    "#Putting the above visuals into numbers\n",
    "\n",
    "#How many report it is extremely easy for them to concentrate on what they are doing?\n",
    "good_concentration = len(data[(data['Current Concentration Level'] == 6.0) | (data['Current Concentration Level'] == 7.0)])\n",
    "\n",
    "#Ratio of people having good concentration\n",
    "print('Ratio of people who report it is extremely easy for them to concentrate are:' +\n",
    "      str(round(good_concentration / len(data['Current Concentration Level']) * 100,2)) +\"%\" ) \n",
    "\n",
    "#How many report they greatly tend to stick to new habits easily\n",
    "new_habits = len(data[(data['Sticking to new Habits'] == 6.0) | (data['Sticking to new Habits'] == 7.0)])\n",
    "\n",
    "#Ratio of people reporting high tendency to stick to new habits\n",
    "print('Ratio of people who report it is extremely easy for them to stick to new habits are:' +\n",
    "      str(round(new_habits / len(data['Sticking to new Habits']) * 100,2)) +\"%\" ) \n",
    "\n",
    "#How many report they highly enjoy keeping a regular schdule\n",
    "regular_schedule = len(data[(data['Keeping a Regular Schedule'] == 6.0) | (data['Keeping a Regular Schedule'] == 7.0)])\n",
    "\n",
    "#Ratio of people who highly enjoy keeping a regular schedule\n",
    "print('Ratio of people who report they greatly enjoy keeping a regular schedule are:' +\n",
    "      str(round(regular_schedule / len(data['Keeping a Regular Schedule']) * 100,2)) +\"%\" ) \n",
    "\n",
    "#How many report they can easily focus on the present moment\n",
    "focus_present = len(data[(data['Focus on Present Moment'] == 6.0) | (data['Focus on Present Moment'] == 7.0)])\n",
    "\n",
    "#Ratio of people who easily focus on the present moment\n",
    "print('Ratio of people who report they are easily able to focus on the present are:' +\n",
    "      str(round(focus_present / len(data['Focus on Present Moment']) * 100,2)) +\"%\" ) "
   ]
  },
  {
   "cell_type": "markdown",
   "metadata": {},
   "source": [
    "### Interesting patterns in the data. Causes for concern?"
   ]
  },
  {
   "cell_type": "code",
   "execution_count": 34,
   "metadata": {},
   "outputs": [
    {
     "data": {
      "text/plain": [
       "Text(0.5, 1.0, 'Average App Usage Trend - 14 days')"
      ]
     },
     "execution_count": 34,
     "metadata": {},
     "output_type": "execute_result"
    },
    {
     "data": {
      "image/png": "[encoded data removed]",
      "text/plain": [
       "<Figure size 720x432 with 1 Axes>"
      ]
     },
     "metadata": {},
     "output_type": "display_data"
    }
   ],
   "source": [
    "#Average trend in daily app usage across 14 days\n",
    "plt.figure(figsize  = (10,6))\n",
    "app_usage.mean(axis = 0).plot(kind = 'line', )\n",
    "plt.title(\"Average App Usage Trend - 14 days\", loc =\"center\", fontstyle = \"italic\")"
   ]
  },
  {
   "cell_type": "markdown",
   "metadata": {},
   "source": [
    "**While the difference in average app usage value across all users for 14 days may not seem significant in terms of numerical value, there are some interesting patterns. The average usage seem to be fluctuating for the first week. The key trend we notice is the significant drop in app usage after Day 8. This could be due to a lot of reasons which cannot be explained just by looking at the data at hand. This is a cause for concern.**.\n",
    "\n",
    "<br>\n",
    "<u>**Business Recommendations:**</u> Send personalized nudges or notifications to remind users to use the app to relieve stress. This could be in the mornings, late evenings after work, or even during work suggesting them to take a breather.  <br>\n",
    "\n",
    "Since the app usage seem to drop off after the first week, the product manager should consider the following: <br>\n",
    "\n",
    "a) Gamification: Encourage people to go on a streak. The app could award specific titles to reward people for continuing their streak beyond the first week. Consider using intangible rewards, such as reputations. \n",
    "Example titles: Learner -> Intermediate -> Guru etc.\n",
    "\n",
    "b) Triggering push notifications, in app notifications, and emails to users to continue their streak especially around the end of first week. \n",
    "\n",
    "c) Encourage social sharing/referral: Since we should be targeting a specific consumer segment, consider devising strategies to intoduce virality within their social circle. Ex: Incentives, reputation, levels etc.\n",
    "\n",
    "d) Target audiences using influencers who have great views on health and mental wellness.\n",
    "\n",
    "e) Further monitor metrics such as DAU (Daily Active User), WAU (Weekly active user), churn rate, conversion etc. to make better data-driven decisions in the future. \n",
    "\n"
   ]
  },
  {
   "cell_type": "markdown",
   "metadata": {},
   "source": [
    "<b><u>Are users finding the app helpful?</u></b>\n",
    "\n",
    "**Note: Only 935 users have completed the response for the post 14 days survey. Therefore, we can compare performances of only these users who have submitted responses for both during signup time and after 14 days.** \n",
    "\n"
   ]
  },
  {
   "cell_type": "code",
   "execution_count": 37,
   "metadata": {},
   "outputs": [
    {
     "data": {
      "text/plain": [
       "<matplotlib.axes._subplots.AxesSubplot at 0x22575128e10>"
      ]
     },
     "execution_count": 37,
     "metadata": {},
     "output_type": "execute_result"
    },
    {
     "data": {
      "image/png": "[encoded data removed]",
      "text/plain": [
       "<Figure size 1008x576 with 2 Axes>"
      ]
     },
     "metadata": {},
     "output_type": "display_data"
    }
   ],
   "source": [
    "#Get users who have submitted responses at both times.\n",
    "performance_app = data.iloc[:935]\n",
    "\n",
    "#Lets look at the performance of the app by looking at how helpful the app has been? Is it meeting user expectation?\n",
    "\n",
    "plt.figure(figsize = (14,8))\n",
    "plt.subplot(1,2,1)\n",
    "sns.countplot('App - Helpfulness Expectation', data = performance_app, palette = 'viridis', )\n",
    "plt.subplot(1,2,2)\n",
    "sns.countplot('App Helpfulness Rating', data = performance_app, palette = 'viridis')\n",
    "\n"
   ]
  },
  {
   "cell_type": "code",
   "execution_count": 187,
   "metadata": {},
   "outputs": [
    {
     "data": {
      "text/html": [
       "<div>\n",
       "<style scoped>\n",
       "    .dataframe tbody tr th:only-of-type {\n",
       "        vertical-align: middle;\n",
       "    }\n",
       "\n",
       "    .dataframe tbody tr th {\n",
       "        vertical-align: top;\n",
       "    }\n",
       "\n",
       "    .dataframe thead th {\n",
       "        text-align: right;\n",
       "    }\n",
       "</style>\n",
       "<table border=\"1\" class=\"dataframe\">\n",
       "  <thead>\n",
       "    <tr style=\"text-align: right;\">\n",
       "      <th></th>\n",
       "      <th>Helpfulness Expectation</th>\n",
       "      <th>Post 14 Days Helpfulness Rating</th>\n",
       "    </tr>\n",
       "  </thead>\n",
       "  <tbody>\n",
       "    <tr>\n",
       "      <th>1.0</th>\n",
       "      <td>21.0</td>\n",
       "      <td>4</td>\n",
       "    </tr>\n",
       "    <tr>\n",
       "      <th>2.0</th>\n",
       "      <td>69.0</td>\n",
       "      <td>28</td>\n",
       "    </tr>\n",
       "    <tr>\n",
       "      <th>3.0</th>\n",
       "      <td>154.0</td>\n",
       "      <td>71</td>\n",
       "    </tr>\n",
       "    <tr>\n",
       "      <th>4.0</th>\n",
       "      <td>228.0</td>\n",
       "      <td>174</td>\n",
       "    </tr>\n",
       "    <tr>\n",
       "      <th>5.0</th>\n",
       "      <td>221.0</td>\n",
       "      <td>227</td>\n",
       "    </tr>\n",
       "    <tr>\n",
       "      <th>6.0</th>\n",
       "      <td>242.0</td>\n",
       "      <td>209</td>\n",
       "    </tr>\n",
       "    <tr>\n",
       "      <th>7.0</th>\n",
       "      <td>NaN</td>\n",
       "      <td>222</td>\n",
       "    </tr>\n",
       "  </tbody>\n",
       "</table>\n",
       "</div>"
      ],
      "text/plain": [
       "     Helpfulness Expectation  Post 14 Days Helpfulness Rating \n",
       "1.0                     21.0                                 4\n",
       "2.0                     69.0                                28\n",
       "3.0                    154.0                                71\n",
       "4.0                    228.0                               174\n",
       "5.0                    221.0                               227\n",
       "6.0                    242.0                               209\n",
       "7.0                      NaN                               222"
      ]
     },
     "execution_count": 187,
     "metadata": {},
     "output_type": "execute_result"
    }
   ],
   "source": [
    "#Frequency of Ratings - Helpfulness (Sign Up Time and Post 14 days)\n",
    "helpfulness_before = pd.DataFrame(performance_app['App - Helpfulness Expectation'].value_counts())\n",
    "helpfulness_after = pd.DataFrame(performance_app['App Helpfulness Rating'].value_counts())\n",
    "helpfulness = pd.concat([helpfulness_before, helpfulness_after], axis = 1)\n",
    "helpfulness.columns = ['Helpfulness Expectation', 'Post 14 Days Helpfulness Rating ']\n",
    "helpfulness"
   ]
  },
  {
   "cell_type": "markdown",
   "metadata": {},
   "source": [
    "**From the above visual, we can certainly see that performance of the app is great by comparing the count of the ratings during sign up and after 14 days. The app has tremendously met the helpfulness expectation. This is a great sign for Serenely that most users are finding the product to be helpful in such a short period of time**\n",
    "\n",
    "**The ratings frequency table above also validates the analysis.**"
   ]
  },
  {
   "cell_type": "code",
   "execution_count": 190,
   "metadata": {},
   "outputs": [
    {
     "data": {
      "text/plain": [
       "<matplotlib.axes._subplots.AxesSubplot at 0x1e5e73ea198>"
      ]
     },
     "execution_count": 190,
     "metadata": {},
     "output_type": "execute_result"
    },
    {
     "data": {
      "image/png": "[encoded data removed]",
      "text/plain": [
       "<Figure size 1008x576 with 2 Axes>"
      ]
     },
     "metadata": {},
     "output_type": "display_data"
    }
   ],
   "source": [
    "#Now letscompare the stress levels of users during sign up and post 14 days\n",
    "\n",
    "plt.figure(figsize = (14,8))\n",
    "plt.subplot(1,2,1)\n",
    "sns.countplot('Before App Usage Stress Level', data = performance_app, palette = 'viridis', )\n",
    "plt.subplot(1,2,2)\n",
    "sns.countplot('After App Usage Stress Levels', data = performance_app, palette = 'viridis')"
   ]
  },
  {
   "cell_type": "code",
   "execution_count": 192,
   "metadata": {},
   "outputs": [
    {
     "data": {
      "text/html": [
       "<div>\n",
       "<style scoped>\n",
       "    .dataframe tbody tr th:only-of-type {\n",
       "        vertical-align: middle;\n",
       "    }\n",
       "\n",
       "    .dataframe tbody tr th {\n",
       "        vertical-align: top;\n",
       "    }\n",
       "\n",
       "    .dataframe thead th {\n",
       "        text-align: right;\n",
       "    }\n",
       "</style>\n",
       "<table border=\"1\" class=\"dataframe\">\n",
       "  <thead>\n",
       "    <tr style=\"text-align: right;\">\n",
       "      <th></th>\n",
       "      <th>Before App Usage Stress Level</th>\n",
       "      <th>After App Usage Stress Levels</th>\n",
       "    </tr>\n",
       "  </thead>\n",
       "  <tbody>\n",
       "    <tr>\n",
       "      <th>1.0</th>\n",
       "      <td>5</td>\n",
       "      <td>4</td>\n",
       "    </tr>\n",
       "    <tr>\n",
       "      <th>2.0</th>\n",
       "      <td>10</td>\n",
       "      <td>21</td>\n",
       "    </tr>\n",
       "    <tr>\n",
       "      <th>3.0</th>\n",
       "      <td>53</td>\n",
       "      <td>71</td>\n",
       "    </tr>\n",
       "    <tr>\n",
       "      <th>4.0</th>\n",
       "      <td>145</td>\n",
       "      <td>169</td>\n",
       "    </tr>\n",
       "    <tr>\n",
       "      <th>5.0</th>\n",
       "      <td>244</td>\n",
       "      <td>243</td>\n",
       "    </tr>\n",
       "    <tr>\n",
       "      <th>6.0</th>\n",
       "      <td>261</td>\n",
       "      <td>207</td>\n",
       "    </tr>\n",
       "    <tr>\n",
       "      <th>7.0</th>\n",
       "      <td>217</td>\n",
       "      <td>220</td>\n",
       "    </tr>\n",
       "  </tbody>\n",
       "</table>\n",
       "</div>"
      ],
      "text/plain": [
       "     Before App Usage Stress Level  After App Usage Stress Levels\n",
       "1.0                              5                              4\n",
       "2.0                             10                             21\n",
       "3.0                             53                             71\n",
       "4.0                            145                            169\n",
       "5.0                            244                            243\n",
       "6.0                            261                            207\n",
       "7.0                            217                            220"
      ]
     },
     "execution_count": 192,
     "metadata": {},
     "output_type": "execute_result"
    }
   ],
   "source": [
    "#Frequency of Ratings - Stress Levels (Sign Up Time and Post 14 days)\n",
    "stresslevel_before = pd.DataFrame(performance_app['Before App Usage Stress Level'].value_counts())\n",
    "stresslevel_after = pd.DataFrame(performance_app['After App Usage Stress Levels'].value_counts())\n",
    "stress = pd.concat([stresslevel_before, stresslevel_after], axis = 1)\n",
    "stress"
   ]
  },
  {
   "cell_type": "markdown",
   "metadata": {},
   "source": [
    "**Looking at the visuals and the table, though majority of our users find the app to be helpful, it is important to note that many users report increased levels of stress even after using the app for 14 days. A small margin of users report lower stress levels. This is once again a cause for concern and can be looked at an user-level view in more detail to help understand problems and answer questions.** "
   ]
  },
  {
   "cell_type": "markdown",
   "metadata": {},
   "source": [
    "## Conclusion"
   ]
  },
  {
   "cell_type": "markdown",
   "metadata": {},
   "source": [
    "**Based on the initial analysis looking at the data for an extremely short period of time, the following are the notbale key conclusions in better understanding the product and its users:** <br>\n",
    "\n",
    "**a) Over 53% of our consumer segment are females (from the data we have, including those who chose to not report gender). Most of the users belong to ages between 25 and 45, who potentiallly are in the early and middle stages of their careers.**\n",
    "\n",
    "**b) A lot of our users belong to the west coast, particularly the major cities of California (LA and SF). Cities in the east coast contribute less. This could be due to differences in lifestyle, and culture of the cities.**\n",
    "\n",
    "**c) About 75% of the users report poor levels of concentration, focus, ability to avoid new habits, and are looking for improvement in their behavioral characteristics, and also reduce stress.**\n",
    "\n",
    "**d) On average, most of our users found the app to excede their expectations of the product to be helpful. However, the average decrease in app-usage trend across the two week period, and unchanged or increased report of recent stress experienced is a cause of concern and should be looked at closely.**"
   ]
  }
 ],
 "metadata": {
  "kernelspec": {
   "display_name": "Python 3",
   "language": "python",
   "name": "python3"
  },
  "language_info": {
   "codemirror_mode": {
    "name": "ipython",
    "version": 3
   },
   "file_extension": ".py",
   "mimetype": "text/x-python",
   "name": "python",
   "nbconvert_exporter": "python",
   "pygments_lexer": "ipython3",
   "version": "3.6.5"
  },
  "toc": {
   "base_numbering": 1,
   "nav_menu": {},
   "number_sections": true,
   "sideBar": true,
   "skip_h1_title": false,
   "title_cell": "Table of Contents",
   "title_sidebar": "Contents",
   "toc_cell": false,
   "toc_position": {
    "height": "calc(100% - 180px)",
    "left": "10px",
    "top": "150px",
    "width": "249px"
   },
   "toc_section_display": true,
   "toc_window_display": true
  }
 },
 "nbformat": 4,
 "nbformat_minor": 2
}
